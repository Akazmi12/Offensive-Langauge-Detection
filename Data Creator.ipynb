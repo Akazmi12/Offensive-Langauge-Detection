{
 "cells": [
  {
   "cell_type": "code",
   "execution_count": 1,
   "id": "53c4c08e",
   "metadata": {},
   "outputs": [],
   "source": [
    "import pandas as pd\n",
    "import sklearn\n",
    "import re\n",
    "from sklearn.feature_extraction.text import TfidfVectorizer\n",
    "from sklearn.feature_extraction.text import CountVectorizer\n",
    "from sklearn import svm\n",
    "from sklearn.metrics import confusion_matrix\n",
    "import seaborn\n",
    "import matplotlib as plt\n",
    "from nltk.stem.porter import *\n",
    "from sklearn.metrics import classification_report\n",
    "from sklearn.metrics import accuracy_score\n",
    "from sklearn.pipeline import Pipeline\n",
    "from sklearn.ensemble import RandomForestClassifier\n",
    "from sklearn.naive_bayes import MultinomialNB\n",
    "from sklearn.model_selection import train_test_split\n",
    "from nltk.stem import WordNetLemmatizer \n",
    "import nltk\n",
    "import string\n",
    "import numpy as np\n",
    "\n",
    "\n",
    "wl = WordNetLemmatizer()\n",
    "stemmer = PorterStemmer()\n",
    "stopwords = nltk.corpus.stopwords.words(\"english\")\n"
   ]
  },
  {
   "cell_type": "code",
   "execution_count": 2,
   "id": "6f77bee6",
   "metadata": {},
   "outputs": [],
   "source": [
    "data = pd.read_csv(\"labeled_data.csv\")\n",
    "pd.set_option(\"display.max_colwidth\",100)"
   ]
  },
  {
   "cell_type": "code",
   "execution_count": 3,
   "id": "6a141d24",
   "metadata": {},
   "outputs": [
    {
     "data": {
      "text/html": [
       "<div>\n",
       "<style scoped>\n",
       "    .dataframe tbody tr th:only-of-type {\n",
       "        vertical-align: middle;\n",
       "    }\n",
       "\n",
       "    .dataframe tbody tr th {\n",
       "        vertical-align: top;\n",
       "    }\n",
       "\n",
       "    .dataframe thead th {\n",
       "        text-align: right;\n",
       "    }\n",
       "</style>\n",
       "<table border=\"1\" class=\"dataframe\">\n",
       "  <thead>\n",
       "    <tr style=\"text-align: right;\">\n",
       "      <th></th>\n",
       "      <th>Unnamed: 0</th>\n",
       "      <th>count</th>\n",
       "      <th>hate_speech</th>\n",
       "      <th>offensive_language</th>\n",
       "      <th>neither</th>\n",
       "      <th>class</th>\n",
       "      <th>tweet</th>\n",
       "    </tr>\n",
       "  </thead>\n",
       "  <tbody>\n",
       "    <tr>\n",
       "      <th>0</th>\n",
       "      <td>0</td>\n",
       "      <td>3</td>\n",
       "      <td>0</td>\n",
       "      <td>0</td>\n",
       "      <td>3</td>\n",
       "      <td>2</td>\n",
       "      <td>!!! RT @mayasolovely: As a woman you shouldn't complain about cleaning up your house. &amp;amp; as a...</td>\n",
       "    </tr>\n",
       "    <tr>\n",
       "      <th>1</th>\n",
       "      <td>1</td>\n",
       "      <td>3</td>\n",
       "      <td>0</td>\n",
       "      <td>3</td>\n",
       "      <td>0</td>\n",
       "      <td>1</td>\n",
       "      <td>!!!!! RT @mleew17: boy dats cold...tyga dwn bad for cuffin dat hoe in the 1st place!!</td>\n",
       "    </tr>\n",
       "    <tr>\n",
       "      <th>2</th>\n",
       "      <td>2</td>\n",
       "      <td>3</td>\n",
       "      <td>0</td>\n",
       "      <td>3</td>\n",
       "      <td>0</td>\n",
       "      <td>1</td>\n",
       "      <td>!!!!!!! RT @UrKindOfBrand Dawg!!!! RT @80sbaby4life: You ever fuck a bitch and she start to cry?...</td>\n",
       "    </tr>\n",
       "    <tr>\n",
       "      <th>3</th>\n",
       "      <td>3</td>\n",
       "      <td>3</td>\n",
       "      <td>0</td>\n",
       "      <td>2</td>\n",
       "      <td>1</td>\n",
       "      <td>1</td>\n",
       "      <td>!!!!!!!!! RT @C_G_Anderson: @viva_based she look like a tranny</td>\n",
       "    </tr>\n",
       "    <tr>\n",
       "      <th>4</th>\n",
       "      <td>4</td>\n",
       "      <td>6</td>\n",
       "      <td>0</td>\n",
       "      <td>6</td>\n",
       "      <td>0</td>\n",
       "      <td>1</td>\n",
       "      <td>!!!!!!!!!!!!! RT @ShenikaRoberts: The shit you hear about me might be true or it might be faker ...</td>\n",
       "    </tr>\n",
       "    <tr>\n",
       "      <th>5</th>\n",
       "      <td>5</td>\n",
       "      <td>3</td>\n",
       "      <td>1</td>\n",
       "      <td>2</td>\n",
       "      <td>0</td>\n",
       "      <td>1</td>\n",
       "      <td>!!!!!!!!!!!!!!!!!!\"@T_Madison_x: The shit just blows me..claim you so faithful and down for some...</td>\n",
       "    </tr>\n",
       "    <tr>\n",
       "      <th>6</th>\n",
       "      <td>6</td>\n",
       "      <td>3</td>\n",
       "      <td>0</td>\n",
       "      <td>3</td>\n",
       "      <td>0</td>\n",
       "      <td>1</td>\n",
       "      <td>!!!!!!\"@__BrighterDays: I can not just sit up and HATE on another bitch .. I got too much shit g...</td>\n",
       "    </tr>\n",
       "    <tr>\n",
       "      <th>7</th>\n",
       "      <td>7</td>\n",
       "      <td>3</td>\n",
       "      <td>0</td>\n",
       "      <td>3</td>\n",
       "      <td>0</td>\n",
       "      <td>1</td>\n",
       "      <td>!!!!&amp;#8220;@selfiequeenbri: cause I'm tired of you big bitches coming for us skinny girls!!&amp;#8221;</td>\n",
       "    </tr>\n",
       "  </tbody>\n",
       "</table>\n",
       "</div>"
      ],
      "text/plain": [
       "   Unnamed: 0  count  hate_speech  offensive_language  neither  class  \\\n",
       "0           0      3            0                   0        3      2   \n",
       "1           1      3            0                   3        0      1   \n",
       "2           2      3            0                   3        0      1   \n",
       "3           3      3            0                   2        1      1   \n",
       "4           4      6            0                   6        0      1   \n",
       "5           5      3            1                   2        0      1   \n",
       "6           6      3            0                   3        0      1   \n",
       "7           7      3            0                   3        0      1   \n",
       "\n",
       "                                                                                                 tweet  \n",
       "0  !!! RT @mayasolovely: As a woman you shouldn't complain about cleaning up your house. &amp; as a...  \n",
       "1                !!!!! RT @mleew17: boy dats cold...tyga dwn bad for cuffin dat hoe in the 1st place!!  \n",
       "2  !!!!!!! RT @UrKindOfBrand Dawg!!!! RT @80sbaby4life: You ever fuck a bitch and she start to cry?...  \n",
       "3                                       !!!!!!!!! RT @C_G_Anderson: @viva_based she look like a tranny  \n",
       "4  !!!!!!!!!!!!! RT @ShenikaRoberts: The shit you hear about me might be true or it might be faker ...  \n",
       "5  !!!!!!!!!!!!!!!!!!\"@T_Madison_x: The shit just blows me..claim you so faithful and down for some...  \n",
       "6  !!!!!!\"@__BrighterDays: I can not just sit up and HATE on another bitch .. I got too much shit g...  \n",
       "7   !!!!&#8220;@selfiequeenbri: cause I'm tired of you big bitches coming for us skinny girls!!&#8221;  "
      ]
     },
     "execution_count": 3,
     "metadata": {},
     "output_type": "execute_result"
    }
   ],
   "source": [
    "data.head(8)"
   ]
  },
  {
   "cell_type": "code",
   "execution_count": 4,
   "id": "99639472",
   "metadata": {},
   "outputs": [
    {
     "data": {
      "text/html": [
       "<div>\n",
       "<style scoped>\n",
       "    .dataframe tbody tr th:only-of-type {\n",
       "        vertical-align: middle;\n",
       "    }\n",
       "\n",
       "    .dataframe tbody tr th {\n",
       "        vertical-align: top;\n",
       "    }\n",
       "\n",
       "    .dataframe thead th {\n",
       "        text-align: right;\n",
       "    }\n",
       "</style>\n",
       "<table border=\"1\" class=\"dataframe\">\n",
       "  <thead>\n",
       "    <tr style=\"text-align: right;\">\n",
       "      <th></th>\n",
       "      <th>Unnamed: 0</th>\n",
       "      <th>count</th>\n",
       "      <th>hate_speech</th>\n",
       "      <th>offensive_language</th>\n",
       "      <th>neither</th>\n",
       "      <th>class</th>\n",
       "      <th>tweet</th>\n",
       "    </tr>\n",
       "  </thead>\n",
       "  <tbody>\n",
       "    <tr>\n",
       "      <th>24776</th>\n",
       "      <td>25289</td>\n",
       "      <td>3</td>\n",
       "      <td>3</td>\n",
       "      <td>0</td>\n",
       "      <td>0</td>\n",
       "      <td>0</td>\n",
       "      <td>you're all niggers</td>\n",
       "    </tr>\n",
       "    <tr>\n",
       "      <th>24777</th>\n",
       "      <td>25290</td>\n",
       "      <td>3</td>\n",
       "      <td>2</td>\n",
       "      <td>1</td>\n",
       "      <td>0</td>\n",
       "      <td>0</td>\n",
       "      <td>you're such a retard i hope you get type 2 diabetes and die from a sugar rush you fucking faggot...</td>\n",
       "    </tr>\n",
       "    <tr>\n",
       "      <th>24778</th>\n",
       "      <td>25291</td>\n",
       "      <td>3</td>\n",
       "      <td>0</td>\n",
       "      <td>2</td>\n",
       "      <td>1</td>\n",
       "      <td>1</td>\n",
       "      <td>you's a muthaf***in lie &amp;#8220;@LifeAsKing: @20_Pearls @corey_emanuel right! His TL is trash &amp;#8...</td>\n",
       "    </tr>\n",
       "    <tr>\n",
       "      <th>24779</th>\n",
       "      <td>25292</td>\n",
       "      <td>3</td>\n",
       "      <td>0</td>\n",
       "      <td>1</td>\n",
       "      <td>2</td>\n",
       "      <td>2</td>\n",
       "      <td>you've gone and broke the wrong heart baby, and drove me redneck crazy</td>\n",
       "    </tr>\n",
       "    <tr>\n",
       "      <th>24780</th>\n",
       "      <td>25294</td>\n",
       "      <td>3</td>\n",
       "      <td>0</td>\n",
       "      <td>3</td>\n",
       "      <td>0</td>\n",
       "      <td>1</td>\n",
       "      <td>young buck wanna eat!!.. dat nigguh like I aint fuckin dis up again</td>\n",
       "    </tr>\n",
       "    <tr>\n",
       "      <th>24781</th>\n",
       "      <td>25295</td>\n",
       "      <td>6</td>\n",
       "      <td>0</td>\n",
       "      <td>6</td>\n",
       "      <td>0</td>\n",
       "      <td>1</td>\n",
       "      <td>youu got wild bitches tellin you lies</td>\n",
       "    </tr>\n",
       "    <tr>\n",
       "      <th>24782</th>\n",
       "      <td>25296</td>\n",
       "      <td>3</td>\n",
       "      <td>0</td>\n",
       "      <td>0</td>\n",
       "      <td>3</td>\n",
       "      <td>2</td>\n",
       "      <td>~~Ruffled | Ntac Eileen Dahlia - Beautiful color combination of pink, orange, yellow &amp;amp; white...</td>\n",
       "    </tr>\n",
       "  </tbody>\n",
       "</table>\n",
       "</div>"
      ],
      "text/plain": [
       "       Unnamed: 0  count  hate_speech  offensive_language  neither  class  \\\n",
       "24776       25289      3            3                   0        0      0   \n",
       "24777       25290      3            2                   1        0      0   \n",
       "24778       25291      3            0                   2        1      1   \n",
       "24779       25292      3            0                   1        2      2   \n",
       "24780       25294      3            0                   3        0      1   \n",
       "24781       25295      6            0                   6        0      1   \n",
       "24782       25296      3            0                   0        3      2   \n",
       "\n",
       "                                                                                                     tweet  \n",
       "24776                                                                                   you're all niggers  \n",
       "24777  you're such a retard i hope you get type 2 diabetes and die from a sugar rush you fucking faggot...  \n",
       "24778  you's a muthaf***in lie &#8220;@LifeAsKing: @20_Pearls @corey_emanuel right! His TL is trash &#8...  \n",
       "24779                               you've gone and broke the wrong heart baby, and drove me redneck crazy  \n",
       "24780                                  young buck wanna eat!!.. dat nigguh like I aint fuckin dis up again  \n",
       "24781                                                                youu got wild bitches tellin you lies  \n",
       "24782  ~~Ruffled | Ntac Eileen Dahlia - Beautiful color combination of pink, orange, yellow &amp; white...  "
      ]
     },
     "execution_count": 4,
     "metadata": {},
     "output_type": "execute_result"
    }
   ],
   "source": [
    "data.tail(7)"
   ]
  },
  {
   "cell_type": "code",
   "execution_count": 5,
   "id": "5aae7490",
   "metadata": {},
   "outputs": [],
   "source": [
    "#Making labels for the model\n",
    "data['labels'] = data['class'].map({\n",
    "    2:0,\n",
    "    0:1,\n",
    "    1:1,    \n",
    "})"
   ]
  },
  {
   "cell_type": "code",
   "execution_count": 6,
   "id": "453b2af0",
   "metadata": {},
   "outputs": [
    {
     "data": {
      "text/plain": [
       "1    20620\n",
       "0     4163\n",
       "Name: labels, dtype: int64"
      ]
     },
     "execution_count": 6,
     "metadata": {},
     "output_type": "execute_result"
    }
   ],
   "source": [
    "data.labels.value_counts()"
   ]
  },
  {
   "cell_type": "code",
   "execution_count": 7,
   "id": "fc0fb562",
   "metadata": {},
   "outputs": [],
   "source": [
    "#Dropping irrelevant stuff\n",
    "data = data.drop(pd.DataFrame(data).columns[[0,1,2,3,4,5]],axis=1)"
   ]
  },
  {
   "cell_type": "code",
   "execution_count": 8,
   "id": "549bdbca",
   "metadata": {},
   "outputs": [
    {
     "name": "stdout",
     "output_type": "stream",
     "text": [
      "Total number of missing Tweets: 0\n",
      "Total number of missing Labels: 0 \n",
      "\n",
      "Total number of Non Offensive: 4163\n",
      "Total number of Offensive: 20620\n"
     ]
    },
    {
     "data": {
      "text/html": [
       "<div>\n",
       "<style scoped>\n",
       "    .dataframe tbody tr th:only-of-type {\n",
       "        vertical-align: middle;\n",
       "    }\n",
       "\n",
       "    .dataframe tbody tr th {\n",
       "        vertical-align: top;\n",
       "    }\n",
       "\n",
       "    .dataframe thead th {\n",
       "        text-align: right;\n",
       "    }\n",
       "</style>\n",
       "<table border=\"1\" class=\"dataframe\">\n",
       "  <thead>\n",
       "    <tr style=\"text-align: right;\">\n",
       "      <th></th>\n",
       "      <th>tweet</th>\n",
       "      <th>labels</th>\n",
       "    </tr>\n",
       "  </thead>\n",
       "  <tbody>\n",
       "    <tr>\n",
       "      <th>0</th>\n",
       "      <td>!!! RT @mayasolovely: As a woman you shouldn't complain about cleaning up your house. &amp;amp; as a...</td>\n",
       "      <td>0</td>\n",
       "    </tr>\n",
       "    <tr>\n",
       "      <th>1</th>\n",
       "      <td>!!!!! RT @mleew17: boy dats cold...tyga dwn bad for cuffin dat hoe in the 1st place!!</td>\n",
       "      <td>1</td>\n",
       "    </tr>\n",
       "    <tr>\n",
       "      <th>2</th>\n",
       "      <td>!!!!!!! RT @UrKindOfBrand Dawg!!!! RT @80sbaby4life: You ever fuck a bitch and she start to cry?...</td>\n",
       "      <td>1</td>\n",
       "    </tr>\n",
       "    <tr>\n",
       "      <th>3</th>\n",
       "      <td>!!!!!!!!! RT @C_G_Anderson: @viva_based she look like a tranny</td>\n",
       "      <td>1</td>\n",
       "    </tr>\n",
       "    <tr>\n",
       "      <th>4</th>\n",
       "      <td>!!!!!!!!!!!!! RT @ShenikaRoberts: The shit you hear about me might be true or it might be faker ...</td>\n",
       "      <td>1</td>\n",
       "    </tr>\n",
       "  </tbody>\n",
       "</table>\n",
       "</div>"
      ],
      "text/plain": [
       "                                                                                                 tweet  \\\n",
       "0  !!! RT @mayasolovely: As a woman you shouldn't complain about cleaning up your house. &amp; as a...   \n",
       "1                !!!!! RT @mleew17: boy dats cold...tyga dwn bad for cuffin dat hoe in the 1st place!!   \n",
       "2  !!!!!!! RT @UrKindOfBrand Dawg!!!! RT @80sbaby4life: You ever fuck a bitch and she start to cry?...   \n",
       "3                                       !!!!!!!!! RT @C_G_Anderson: @viva_based she look like a tranny   \n",
       "4  !!!!!!!!!!!!! RT @ShenikaRoberts: The shit you hear about me might be true or it might be faker ...   \n",
       "\n",
       "   labels  \n",
       "0       0  \n",
       "1       1  \n",
       "2       1  \n",
       "3       1  \n",
       "4       1  "
      ]
     },
     "execution_count": 8,
     "metadata": {},
     "output_type": "execute_result"
    }
   ],
   "source": [
    "print(f\"Total number of missing Tweets: {data['tweet'].isnull().sum()}\")\n",
    "print(f\"Total number of missing Labels: {data['labels'].isnull().sum()}\",'\\n')\n",
    "\n",
    "#If null values, we can use the following command\n",
    "#data = data.dropna()\n",
    "\n",
    "\n",
    "print(f\"Total number of Non Offensive: {len(data[data['labels']== 0])}\")\n",
    "print(f\"Total number of Offensive: {len(data[data['labels']== 1])}\")\n",
    "\n",
    "data.head()"
   ]
  },
  {
   "cell_type": "code",
   "execution_count": 9,
   "id": "78ea42da",
   "metadata": {},
   "outputs": [
    {
     "data": {
      "text/plain": [
       "<Axes: >"
      ]
     },
     "execution_count": 9,
     "metadata": {},
     "output_type": "execute_result"
    },
    {
     "data": {
      "image/png": "[encoded data removed]",
      "text/plain": [
       "<Figure size 640x480 with 1 Axes>"
      ]
     },
     "metadata": {},
     "output_type": "display_data"
    }
   ],
   "source": [
    "data['labels'].hist()"
   ]
  },
  {
   "cell_type": "code",
   "execution_count": 10,
   "id": "a28e0a94",
   "metadata": {},
   "outputs": [
    {
     "data": {
      "text/html": [
       "<div>\n",
       "<style scoped>\n",
       "    .dataframe tbody tr th:only-of-type {\n",
       "        vertical-align: middle;\n",
       "    }\n",
       "\n",
       "    .dataframe tbody tr th {\n",
       "        vertical-align: top;\n",
       "    }\n",
       "\n",
       "    .dataframe thead th {\n",
       "        text-align: right;\n",
       "    }\n",
       "</style>\n",
       "<table border=\"1\" class=\"dataframe\">\n",
       "  <thead>\n",
       "    <tr style=\"text-align: right;\">\n",
       "      <th></th>\n",
       "      <th>labels</th>\n",
       "    </tr>\n",
       "  </thead>\n",
       "  <tbody>\n",
       "    <tr>\n",
       "      <th>count</th>\n",
       "      <td>24783.000000</td>\n",
       "    </tr>\n",
       "    <tr>\n",
       "      <th>mean</th>\n",
       "      <td>0.832022</td>\n",
       "    </tr>\n",
       "    <tr>\n",
       "      <th>std</th>\n",
       "      <td>0.373854</td>\n",
       "    </tr>\n",
       "    <tr>\n",
       "      <th>min</th>\n",
       "      <td>0.000000</td>\n",
       "    </tr>\n",
       "    <tr>\n",
       "      <th>25%</th>\n",
       "      <td>1.000000</td>\n",
       "    </tr>\n",
       "    <tr>\n",
       "      <th>50%</th>\n",
       "      <td>1.000000</td>\n",
       "    </tr>\n",
       "    <tr>\n",
       "      <th>75%</th>\n",
       "      <td>1.000000</td>\n",
       "    </tr>\n",
       "    <tr>\n",
       "      <th>max</th>\n",
       "      <td>1.000000</td>\n",
       "    </tr>\n",
       "  </tbody>\n",
       "</table>\n",
       "</div>"
      ],
      "text/plain": [
       "             labels\n",
       "count  24783.000000\n",
       "mean       0.832022\n",
       "std        0.373854\n",
       "min        0.000000\n",
       "25%        1.000000\n",
       "50%        1.000000\n",
       "75%        1.000000\n",
       "max        1.000000"
      ]
     },
     "execution_count": 10,
     "metadata": {},
     "output_type": "execute_result"
    }
   ],
   "source": [
    "data.describe()"
   ]
  },
  {
   "cell_type": "code",
   "execution_count": 11,
   "id": "fc90c0ac",
   "metadata": {},
   "outputs": [],
   "source": [
    "#Making preprocessor to clean data\n",
    "\n",
    "special_symbols = [\"#ff\", \"ff\", \"rt\"]\n",
    "stopwords.extend(special_symbols)\n",
    "\n",
    "def preprocess(text):\n",
    "    \"\"\"\n",
    "    Accepts a text string and replaces:\n",
    "    1) urls with \"\"\n",
    "    2) lots of whitespace with one instance\n",
    "    3) mentions with \"\"\n",
    "    4) removes punctuation\n",
    "    5) split text with anything other than word\n",
    "    6) removes stopwords\n",
    "    7) lemmatize\n",
    "    \"\"\"\n",
    "    space_pattern = '\\s+'\n",
    "    giant_url_regex = ('http[s]?://(?:[a-zA-Z]|[0-9]|[$-_@.&+]|'\n",
    "        '[!*\\(\\),]|(?:%[0-9a-fA-F][0-9a-fA-F]))+')\n",
    "    mention_regex = '@[\\w\\-]+' \n",
    "    \n",
    "    dat = re.sub(space_pattern, ' ', text)\n",
    "    dat2 = re.sub(giant_url_regex, '', dat)\n",
    "    dat3 = re.sub(mention_regex, '', dat2)\n",
    "    dat4 = \"\".join([d for d in dat3 if d not in string.punctuation])\n",
    "    dat5 = re.split('\\W+',dat4)\n",
    "    dat6 = [d for d in dat5 if d not in stopwords] #stopwords removal\n",
    "    dat7 = [stemmer.stem(d) for d in dat6] #enable/disable stemming\n",
    "    text = \" \".join(dat7)\n",
    "    return text\n",
    "\n",
    "\n",
    "def tokenize(tweet):\n",
    "    \"\"\"Tokenize but without the stemming\"\"\"\n",
    "    tweet = \" \".join(re.split(\"\\W+\", tweet.lower())).strip()\n",
    "    return tweet.split()\n",
    "\n",
    "vectorizer = TfidfVectorizer(\n",
    "    tokenizer=None, #tokenize\n",
    "    preprocessor=preprocess,\n",
    "    ngram_range=(1, 3),\n",
    "    stop_words=None, #stopwords\n",
    "    use_idf=True,\n",
    "    smooth_idf=False,\n",
    "    norm=None,\n",
    "    decode_error='replace',\n",
    "    max_features=10000,\n",
    "    min_df=5,\n",
    "    max_df=0.75\n",
    "    )\n",
    "\n",
    "#c_vectorizer = CountVectorizer(\n",
    "#    tokenizer=None,\n",
    "#    preprocessor=preprocess,\n",
    "#    ngram_range=(1, 1),\n",
    "#    stop_words=None,#stopwords\n",
    "#    decode_error='replace',\n",
    "#    max_features=10000,\n",
    "#    )"
   ]
  },
  {
   "cell_type": "code",
   "execution_count": 12,
   "id": "0a5a3066",
   "metadata": {},
   "outputs": [],
   "source": [
    "#Random Forest"
   ]
  },
  {
   "cell_type": "code",
   "execution_count": 13,
   "id": "b1e5df8c",
   "metadata": {
    "scrolled": false
   },
   "outputs": [
    {
     "name": "stdout",
     "output_type": "stream",
     "text": [
      "              precision    recall  f1-score   support\n",
      "\n",
      "           0       0.84      0.85      0.85      1462\n",
      "           1       0.97      0.97      0.97      6965\n",
      "\n",
      "    accuracy                           0.95      8427\n",
      "   macro avg       0.90      0.91      0.91      8427\n",
      "weighted avg       0.95      0.95      0.95      8427\n",
      "\n"
     ]
    }
   ],
   "source": [
    "rdf = Pipeline([\n",
    "    ('vectorizer_tfidf',vectorizer),\n",
    "    ('Random Forest Classifier',RandomForestClassifier())\n",
    "])\n",
    "\n",
    "#c_rdf = Pipeline([\n",
    "#    ('Count_vectorizer',c_vectorizer),\n",
    "#    ('Random Forest Classifier',RandomForestClassifier())\n",
    "#])\n",
    "\n",
    "x_train,x_test,y_train,y_test = train_test_split(data['tweet'],data['labels'],test_size=0.34,random_state=2002)\n",
    "\n",
    "rdf.fit(x_train,y_train)\n",
    "#c_rdf.fit(x_train,y_train)\n",
    "\n",
    "y_pred = rdf.predict(x_test)\n",
    "#c_y_pred = c_rdf.predict(x_test)\n",
    "\n",
    "print(classification_report(y_test,y_pred))\n",
    "#print(classification_report(y_test,c_y_pred))"
   ]
  },
  {
   "cell_type": "code",
   "execution_count": 33,
   "id": "712251d8",
   "metadata": {},
   "outputs": [
    {
     "name": "stdout",
     "output_type": "stream",
     "text": [
      "Random Forest Accuracy: 0.9466002135991456\n"
     ]
    },
    {
     "data": {
      "image/png": "[encoded data removed]",
      "text/plain": [
       "<Figure size 500x500 with 1 Axes>"
      ]
     },
     "metadata": {},
     "output_type": "display_data"
    }
   ],
   "source": [
    "print(\"Random Forest Accuracy:\",accuracy_score(y_test, y_pred))\n",
    "\n",
    "confusion_mat = confusion_matrix(y_test,y_pred)\n",
    "matrix_proportions = np.zeros((2,2))\n",
    "for i in range(0,2):\n",
    "    matrix_proportions[i,:] = confusion_mat[i,:]/float(confusion_mat[i,:].sum())\n",
    "names=['Offensive','Non-Offensive']\n",
    "confusion_df = pd.DataFrame(matrix_proportions, index=names,columns=names)\n",
    "\n",
    "plt.pyplot.figure(figsize=(5,5))\n",
    "seaborn.heatmap(confusion_df,annot=True,annot_kws={\"size\": 12},cmap='Blues',cbar=False, square=True,fmt='.2f')\n",
    "plt.pyplot.ylabel(r'True categories',fontsize=14)\n",
    "plt.pyplot.xlabel('Predicted categories',fontsize=14)\n",
    "plt.pyplot.tick_params(labelsize=12)"
   ]
  },
  {
   "cell_type": "code",
   "execution_count": 15,
   "id": "4cdff630",
   "metadata": {},
   "outputs": [],
   "source": [
    "#Support Vector Machine"
   ]
  },
  {
   "cell_type": "code",
   "execution_count": 16,
   "id": "add51351",
   "metadata": {},
   "outputs": [
    {
     "name": "stdout",
     "output_type": "stream",
     "text": [
      "              precision    recall  f1-score   support\n",
      "\n",
      "           0       0.87      0.76      0.81      1462\n",
      "           1       0.95      0.98      0.96      6965\n",
      "\n",
      "    accuracy                           0.94      8427\n",
      "   macro avg       0.91      0.87      0.89      8427\n",
      "weighted avg       0.94      0.94      0.94      8427\n",
      "\n"
     ]
    }
   ],
   "source": [
    "SVM = Pipeline([\n",
    "    ('vectorizer_tfidf',vectorizer),\n",
    "    ('SVM',svm.SVC())\n",
    "])\n",
    "\n",
    "x_train,x_test,y_train,y_test = train_test_split(data['tweet'],data['labels'],test_size=0.34,random_state=2002)\n",
    "SVM.fit(x_train,y_train)\n",
    "\n",
    "y_pred_2 = SVM.predict(x_test)\n",
    "\n",
    "print(classification_report(y_test,y_pred_2))"
   ]
  },
  {
   "cell_type": "code",
   "execution_count": 34,
   "id": "c8c49cdc",
   "metadata": {},
   "outputs": [
    {
     "name": "stdout",
     "output_type": "stream",
     "text": [
      "Suppor Vector Machine Accuracy: 0.9382935801590127\n"
     ]
    },
    {
     "data": {
      "image/png": "[encoded data removed]",
      "text/plain": [
       "<Figure size 500x500 with 1 Axes>"
      ]
     },
     "metadata": {},
     "output_type": "display_data"
    }
   ],
   "source": [
    "print(\"Suppor Vector Machine Accuracy:\",accuracy_score(y_test, y_pred_2))\n",
    "\n",
    "confusion_mat_svc = confusion_matrix(y_test,y_pred_2)\n",
    "matrix_proportions_svc = np.zeros((2,2))\n",
    "for i in range(0,2):\n",
    "    matrix_proportions_svc[i,:] = confusion_mat_svc[i,:]/float(confusion_mat_svc[i,:].sum())\n",
    "names=['Offensive','Non-Offensive']\n",
    "confusion_df = pd.DataFrame(matrix_proportions_svc, index=names,columns=names)\n",
    "\n",
    "plt.pyplot.figure(figsize=(5,5))\n",
    "seaborn.heatmap(confusion_df,annot=True,annot_kws={\"size\": 12},cmap='Oranges',cbar=False, square=True,fmt='.2f')\n",
    "plt.pyplot.ylabel(r'True categories',fontsize=14)\n",
    "plt.pyplot.xlabel(r'Predicted categories',fontsize=14)\n",
    "plt.pyplot.tick_params(labelsize=12)\n"
   ]
  },
  {
   "cell_type": "code",
   "execution_count": 18,
   "id": "7a4670e5",
   "metadata": {},
   "outputs": [],
   "source": [
    "#MultimomialNB"
   ]
  },
  {
   "cell_type": "code",
   "execution_count": 19,
   "id": "fad9695c",
   "metadata": {
    "scrolled": true
   },
   "outputs": [
    {
     "name": "stdout",
     "output_type": "stream",
     "text": [
      "              precision    recall  f1-score   support\n",
      "\n",
      "           0       0.69      0.82      0.75      1462\n",
      "           1       0.96      0.92      0.94      6965\n",
      "\n",
      "    accuracy                           0.91      8427\n",
      "   macro avg       0.83      0.87      0.85      8427\n",
      "weighted avg       0.91      0.91      0.91      8427\n",
      "\n"
     ]
    }
   ],
   "source": [
    "mnb = Pipeline([\n",
    "    ('vectorizer_tfidf',vectorizer),\n",
    "    ('MNB',MultinomialNB())\n",
    "])\n",
    "\n",
    "x_train,x_test,y_train,y_test = train_test_split(data['tweet'],data['labels'],test_size=0.34,random_state=2002)\n",
    "mnb.fit(x_train,y_train)\n",
    "\n",
    "y_pred_3 = mnb.predict(x_test)\n",
    "\n",
    "print(classification_report(y_test,y_pred_3))"
   ]
  },
  {
   "cell_type": "code",
   "execution_count": 35,
   "id": "0d348519",
   "metadata": {},
   "outputs": [
    {
     "name": "stdout",
     "output_type": "stream",
     "text": [
      "MultinomialNB Accuracy: 0.9055417111664886\n"
     ]
    },
    {
     "data": {
      "image/png": "[encoded data removed]",
      "text/plain": [
       "<Figure size 500x500 with 1 Axes>"
      ]
     },
     "metadata": {},
     "output_type": "display_data"
    }
   ],
   "source": [
    "print(\"MultinomialNB Accuracy:\",accuracy_score(y_test, y_pred_3))\n",
    "\n",
    "confusion_mat_mnb = confusion_matrix(y_test,y_pred_3)\n",
    "matrix_proportions_mnb = np.zeros((2,2))\n",
    "for i in range(0,2):\n",
    "    matrix_proportions_mnb[i,:] = confusion_mat_mnb[i,:]/float(confusion_mat_mnb[i,:].sum())\n",
    "names=['Offensive','Non-Offensive']\n",
    "confusion_df = pd.DataFrame(matrix_proportions_mnb, index=names,columns=names)\n",
    "\n",
    "plt.pyplot.figure(figsize=(5,5))\n",
    "seaborn.heatmap(confusion_df,annot=True,annot_kws={\"size\": 12},cmap='Greens',cbar=False, square=True,fmt='.2f')\n",
    "plt.pyplot.ylabel(r'True categories',fontsize=14)\n",
    "plt.pyplot.xlabel(r'Predicted categories',fontsize=14)\n",
    "plt.pyplot.tick_params(labelsize=12)"
   ]
  },
  {
   "cell_type": "code",
   "execution_count": 21,
   "id": "02faffe6",
   "metadata": {},
   "outputs": [
    {
     "name": "stdout",
     "output_type": "stream",
     "text": [
      "soo cute\n",
      "Random Forest Model: Non-Offensive\n",
      "Support Vector Machine Model: Non-Offensive\n",
      "MultinomialNB Model: Offensive\n"
     ]
    }
   ],
   "source": [
    "a = preprocess(\"you are soo cute\")\n",
    "\n",
    "print(a)\n",
    "\n",
    "if rdf.predict([a]) == [1]:\n",
    "    rdf_prediction = \"Offensive\"\n",
    "else:\n",
    "    rdf_prediction = \"Non-Offensive\"\n",
    "    \n",
    "if mnb.predict([a]) == [1]:\n",
    "    mnb_prediction = \"Offensive\"\n",
    "else:\n",
    "    mnb_prediction = \"Non-Offensive\"\n",
    "    \n",
    "if SVM.predict([a]) == [1]:\n",
    "    SVM_prediction = \"Offensive\"\n",
    "else:\n",
    "    SVM_prediction = \"Non-Offensive\"\n",
    "    \n",
    "print(f\"Random Forest Model: {rdf_prediction}\")\n",
    "print(f\"Support Vector Machine Model: {SVM_prediction}\")\n",
    "print(f\"MultinomialNB Model: {mnb_prediction}\")\n"
   ]
  },
  {
   "cell_type": "code",
   "execution_count": 22,
   "id": "2fcade28",
   "metadata": {},
   "outputs": [
    {
     "name": "stdout",
     "output_type": "stream",
     "text": [
      "[1, 1, 1, 1, 1, 1, 1, 1, 1, 0, 1, 1, 1, 1, 1, 1, 1, 0, 1, 1, 1, 1, 1, 1, 0, 0, 1, 1, 1, 1]\n",
      "[1, 1, 1, 1, 1, 1, 1, 1, 0, 0, 1, 1, 1, 1, 1, 1, 0, 0, 1, 1, 1, 1, 1, 1, 1, 0, 1, 1, 1, 1]\n"
     ]
    }
   ],
   "source": [
    "print(list(y_test[10:40]))\n",
    "print(list(y_pred_3[10:40]))"
   ]
  },
  {
   "cell_type": "code",
   "execution_count": 23,
   "id": "774e402b",
   "metadata": {},
   "outputs": [
    {
     "data": {
      "text/html": [
       "<div>\n",
       "<style scoped>\n",
       "    .dataframe tbody tr th:only-of-type {\n",
       "        vertical-align: middle;\n",
       "    }\n",
       "\n",
       "    .dataframe tbody tr th {\n",
       "        vertical-align: top;\n",
       "    }\n",
       "\n",
       "    .dataframe thead th {\n",
       "        text-align: right;\n",
       "    }\n",
       "</style>\n",
       "<table border=\"1\" class=\"dataframe\">\n",
       "  <thead>\n",
       "    <tr style=\"text-align: right;\">\n",
       "      <th></th>\n",
       "      <th>tweet</th>\n",
       "      <th>labels</th>\n",
       "    </tr>\n",
       "  </thead>\n",
       "  <tbody>\n",
       "    <tr>\n",
       "      <th>24773</th>\n",
       "      <td>you niggers cheat on ya gf's? smh....</td>\n",
       "      <td>1</td>\n",
       "    </tr>\n",
       "    <tr>\n",
       "      <th>24774</th>\n",
       "      <td>you really care bout dis bitch. my dick all in yo feelings</td>\n",
       "      <td>1</td>\n",
       "    </tr>\n",
       "    <tr>\n",
       "      <th>24775</th>\n",
       "      <td>you worried bout other bitches, you need me for?</td>\n",
       "      <td>1</td>\n",
       "    </tr>\n",
       "    <tr>\n",
       "      <th>24776</th>\n",
       "      <td>you're all niggers</td>\n",
       "      <td>1</td>\n",
       "    </tr>\n",
       "    <tr>\n",
       "      <th>24777</th>\n",
       "      <td>you're such a retard i hope you get type 2 diabetes and die from a sugar rush you fucking faggot...</td>\n",
       "      <td>1</td>\n",
       "    </tr>\n",
       "    <tr>\n",
       "      <th>24778</th>\n",
       "      <td>you's a muthaf***in lie &amp;#8220;@LifeAsKing: @20_Pearls @corey_emanuel right! His TL is trash &amp;#8...</td>\n",
       "      <td>1</td>\n",
       "    </tr>\n",
       "    <tr>\n",
       "      <th>24779</th>\n",
       "      <td>you've gone and broke the wrong heart baby, and drove me redneck crazy</td>\n",
       "      <td>0</td>\n",
       "    </tr>\n",
       "    <tr>\n",
       "      <th>24780</th>\n",
       "      <td>young buck wanna eat!!.. dat nigguh like I aint fuckin dis up again</td>\n",
       "      <td>1</td>\n",
       "    </tr>\n",
       "    <tr>\n",
       "      <th>24781</th>\n",
       "      <td>youu got wild bitches tellin you lies</td>\n",
       "      <td>1</td>\n",
       "    </tr>\n",
       "    <tr>\n",
       "      <th>24782</th>\n",
       "      <td>~~Ruffled | Ntac Eileen Dahlia - Beautiful color combination of pink, orange, yellow &amp;amp; white...</td>\n",
       "      <td>0</td>\n",
       "    </tr>\n",
       "  </tbody>\n",
       "</table>\n",
       "</div>"
      ],
      "text/plain": [
       "                                                                                                     tweet  \\\n",
       "24773                                                                you niggers cheat on ya gf's? smh....   \n",
       "24774                                           you really care bout dis bitch. my dick all in yo feelings   \n",
       "24775                                                     you worried bout other bitches, you need me for?   \n",
       "24776                                                                                   you're all niggers   \n",
       "24777  you're such a retard i hope you get type 2 diabetes and die from a sugar rush you fucking faggot...   \n",
       "24778  you's a muthaf***in lie &#8220;@LifeAsKing: @20_Pearls @corey_emanuel right! His TL is trash &#8...   \n",
       "24779                               you've gone and broke the wrong heart baby, and drove me redneck crazy   \n",
       "24780                                  young buck wanna eat!!.. dat nigguh like I aint fuckin dis up again   \n",
       "24781                                                                youu got wild bitches tellin you lies   \n",
       "24782  ~~Ruffled | Ntac Eileen Dahlia - Beautiful color combination of pink, orange, yellow &amp; white...   \n",
       "\n",
       "       labels  \n",
       "24773       1  \n",
       "24774       1  \n",
       "24775       1  \n",
       "24776       1  \n",
       "24777       1  \n",
       "24778       1  \n",
       "24779       0  \n",
       "24780       1  \n",
       "24781       1  \n",
       "24782       0  "
      ]
     },
     "execution_count": 23,
     "metadata": {},
     "output_type": "execute_result"
    }
   ],
   "source": [
    "data.tail(10)"
   ]
  },
  {
   "cell_type": "code",
   "execution_count": 40,
   "id": "8f03e309",
   "metadata": {},
   "outputs": [
    {
     "data": {
      "text/html": [
       "<div>\n",
       "<style scoped>\n",
       "    .dataframe tbody tr th:only-of-type {\n",
       "        vertical-align: middle;\n",
       "    }\n",
       "\n",
       "    .dataframe tbody tr th {\n",
       "        vertical-align: top;\n",
       "    }\n",
       "\n",
       "    .dataframe thead th {\n",
       "        text-align: right;\n",
       "    }\n",
       "</style>\n",
       "<table border=\"1\" class=\"dataframe\">\n",
       "  <thead>\n",
       "    <tr style=\"text-align: right;\">\n",
       "      <th></th>\n",
       "      <th>Random Forest</th>\n",
       "      <th>Support Vector</th>\n",
       "      <th>MultinomialNB</th>\n",
       "    </tr>\n",
       "  </thead>\n",
       "  <tbody>\n",
       "    <tr>\n",
       "      <th>Accuracy</th>\n",
       "      <td>0.946600</td>\n",
       "      <td>0.938294</td>\n",
       "      <td>0.905542</td>\n",
       "    </tr>\n",
       "    <tr>\n",
       "      <th>True Positive</th>\n",
       "      <td>0.854993</td>\n",
       "      <td>0.761286</td>\n",
       "      <td>0.823529</td>\n",
       "    </tr>\n",
       "    <tr>\n",
       "      <th>True Negative</th>\n",
       "      <td>0.145007</td>\n",
       "      <td>0.238714</td>\n",
       "      <td>0.176471</td>\n",
       "    </tr>\n",
       "    <tr>\n",
       "      <th>False Positive</th>\n",
       "      <td>0.034171</td>\n",
       "      <td>0.024551</td>\n",
       "      <td>0.077243</td>\n",
       "    </tr>\n",
       "    <tr>\n",
       "      <th>False Negative</th>\n",
       "      <td>0.965829</td>\n",
       "      <td>0.975449</td>\n",
       "      <td>0.922757</td>\n",
       "    </tr>\n",
       "  </tbody>\n",
       "</table>\n",
       "</div>"
      ],
      "text/plain": [
       "                Random Forest  Support Vector  MultinomialNB\n",
       "Accuracy             0.946600        0.938294       0.905542\n",
       "True Positive        0.854993        0.761286       0.823529\n",
       "True Negative        0.145007        0.238714       0.176471\n",
       "False Positive       0.034171        0.024551       0.077243\n",
       "False Negative       0.965829        0.975449       0.922757"
      ]
     },
     "execution_count": 40,
     "metadata": {},
     "output_type": "execute_result"
    }
   ],
   "source": [
    "r = matrix_proportions\n",
    "s = matrix_proportions_svc\n",
    "m = matrix_proportions_mnb\n",
    "\n",
    "a = [\"Random Forest\",\"Support Vector\",\"MultinomialNB\"]\n",
    "i = ['Accuracy','True Positive','True Negative','False Positive', 'False Negative']\n",
    "ac = {\n",
    "    \"Random Forest\":[accuracy_score(y_test, y_pred),r[0,0],r[0,1],r[1,0],r[1,1]],\n",
    "    \"Support Vector\":[accuracy_score(y_test, y_pred_2),s[0,0],s[0,1],s[1,0],s[1,1]],\n",
    "    \"MultinomialNB\":[accuracy_score(y_test, y_pred_3),m[0,0],m[0,1],m[1,0],m[1,1]]\n",
    "}\n",
    "pd.DataFrame(ac,index=i,columns=a)"
   ]
  },
  {
   "cell_type": "code",
   "execution_count": null,
   "id": "a47126d3",
   "metadata": {},
   "outputs": [],
   "source": []
  }
 ],
 "metadata": {
  "kernelspec": {
   "display_name": "Python 3 (ipykernel)",
   "language": "python",
   "name": "python3"
  },
  "language_info": {
   "codemirror_mode": {
    "name": "ipython",
    "version": 3
   },
   "file_extension": ".py",
   "mimetype": "text/x-python",
   "name": "python",
   "nbconvert_exporter": "python",
   "pygments_lexer": "ipython3",
   "version": "3.10.9"
  }
 },
 "nbformat": 4,
 "nbformat_minor": 5
}
